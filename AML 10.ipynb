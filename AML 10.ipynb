{
 "cells": [
  {
   "cell_type": "markdown",
   "id": "d06af800",
   "metadata": {},
   "source": [
    "# Practical 10"
   ]
  },
  {
   "cell_type": "markdown",
   "id": "51a73987",
   "metadata": {},
   "source": [
    "## Aim : Apply SVD on a matrix using numpy and TruncateSVD"
   ]
  },
  {
   "cell_type": "markdown",
   "id": "7733a973",
   "metadata": {},
   "source": [
    "...............................SVD using numpy on a matrix...................................."
   ]
  },
  {
   "cell_type": "code",
   "execution_count": 1,
   "id": "5714162f",
   "metadata": {},
   "outputs": [],
   "source": [
    "import numpy as np\n",
    "from numpy.linalg import svd"
   ]
  },
  {
   "cell_type": "code",
   "execution_count": 2,
   "id": "d3d24d5a",
   "metadata": {},
   "outputs": [],
   "source": [
    "# Define your matrix as 2-d numpy array\n",
    "A = np.array([[4,0],[3,-5]])\n",
    "U, S, VT = svd(A)"
   ]
  },
  {
   "cell_type": "code",
   "execution_count": 3,
   "id": "ad85b0de",
   "metadata": {},
   "outputs": [
    {
     "name": "stdout",
     "output_type": "stream",
     "text": [
      "Left Singular Vectors:\n",
      "[[-0.4472136  -0.89442719]\n",
      " [-0.89442719  0.4472136 ]]\n",
      "\n",
      "Singular Values:\n",
      "[[6.32455532 0.        ]\n",
      " [0.         3.16227766]]\n",
      "\n",
      "Right Singular Vectors:\n",
      "[[-0.70710678  0.70710678]\n",
      " [-0.70710678 -0.70710678]]\n"
     ]
    }
   ],
   "source": [
    "print(\"Left Singular Vectors:\")\n",
    "print(U)\n",
    "print(\"\\nSingular Values:\")\n",
    "print(np.diag(S))\n",
    "print(\"\\nRight Singular Vectors:\")\n",
    "print(VT)"
   ]
  },
  {
   "cell_type": "code",
   "execution_count": 4,
   "id": "8d6d7e32",
   "metadata": {},
   "outputs": [
    {
     "name": "stdout",
     "output_type": "stream",
     "text": [
      "[[ 4.00000000e+00 -1.11022302e-15]\n",
      " [ 3.00000000e+00 -5.00000000e+00]]\n"
     ]
    }
   ],
   "source": [
    "# Check that this is an exact decomposition\n",
    "# @ is used to directly multiply matrices\n",
    "print(U @ np.diag(S) @ VT)"
   ]
  },
  {
   "cell_type": "code",
   "execution_count": 5,
   "id": "b40a3aa3",
   "metadata": {},
   "outputs": [],
   "source": [
    "# Practice"
   ]
  },
  {
   "cell_type": "code",
   "execution_count": 6,
   "id": "b66046b2",
   "metadata": {},
   "outputs": [],
   "source": [
    "B = np.array([[3,2], [3,3], [-2,2]])\n",
    "U, S, VT = svd(B)"
   ]
  },
  {
   "cell_type": "code",
   "execution_count": 7,
   "id": "f8ae1a26",
   "metadata": {},
   "outputs": [
    {
     "name": "stdout",
     "output_type": "stream",
     "text": [
      "Left Singular Vectors:\n",
      "[[-0.64749817  0.10759258  0.75443354]\n",
      " [-0.7599438  -0.16501062 -0.62869461]\n",
      " [ 0.05684667 -0.9804057   0.18860838]]\n",
      "\n",
      "Singular Values:\n",
      "[[5.54801894 0.        ]\n",
      " [0.         2.86696457]]\n",
      "\n",
      "Right Singular Vectors:\n",
      "[[-0.7815437 -0.6238505]\n",
      " [ 0.6238505 -0.7815437]]\n"
     ]
    }
   ],
   "source": [
    "print(\"Left Singular Vectors:\")\n",
    "print(U)\n",
    "print(\"\\nSingular Values:\")\n",
    "print(np.diag(S))\n",
    "print(\"\\nRight Singular Vectors:\")\n",
    "print(VT)"
   ]
  },
  {
   "cell_type": "code",
   "execution_count": 8,
   "id": "3a25dee2",
   "metadata": {},
   "outputs": [],
   "source": [
    "# Check that this is an exact decomposition\n",
    "# @ is used to directly multiply matrices\n",
    "# print(U @ np.diag(S) @ VT)"
   ]
  },
  {
   "cell_type": "code",
   "execution_count": 9,
   "id": "53addb7f",
   "metadata": {},
   "outputs": [],
   "source": [
    "C = ([[4,3,2], [-3,0,4]])\n",
    "U, S, VT = svd(C)"
   ]
  },
  {
   "cell_type": "code",
   "execution_count": 10,
   "id": "46e043b0",
   "metadata": {},
   "outputs": [
    {
     "name": "stdout",
     "output_type": "stream",
     "text": [
      "Left Singular Vectors:\n",
      "[[ 0.85065081  0.52573111]\n",
      " [-0.52573111  0.85065081]]\n",
      "\n",
      "Singular Values:\n",
      "[[5.6100032  0.        ]\n",
      " [0.         4.74635271]]\n",
      "\n",
      "Right Singular Vectors:\n",
      "[[ 0.88766377  0.45489322 -0.07159048]\n",
      " [-0.09460485  0.33229586  0.93841856]\n",
      " [ 0.45066946 -0.82622734  0.33800209]]\n"
     ]
    }
   ],
   "source": [
    "print(\"Left Singular Vectors:\")\n",
    "print(U)\n",
    "print(\"\\nSingular Values:\")\n",
    "print(np.diag(S))\n",
    "print(\"\\nRight Singular Vectors:\")\n",
    "print(VT)"
   ]
  },
  {
   "cell_type": "code",
   "execution_count": 11,
   "id": "5a706a68",
   "metadata": {},
   "outputs": [],
   "source": [
    "# Check that this is an exact decomposition\n",
    "# @ is used to directly multiply matrices\n",
    "# print(U @ np.diag(S) @ VT)"
   ]
  },
  {
   "cell_type": "markdown",
   "id": "98005777",
   "metadata": {},
   "source": [
    "...................................................SVD using TruncateSVD..........................................."
   ]
  },
  {
   "cell_type": "code",
   "execution_count": 12,
   "id": "a18b66cf",
   "metadata": {},
   "outputs": [
    {
     "name": "stdout",
     "output_type": "stream",
     "text": [
      "Orignal matrix:\n",
      "[[-1  2  0]\n",
      " [ 2  0 -2]\n",
      " [ 0 -2  1]]\n"
     ]
    }
   ],
   "source": [
    "import numpy as np\n",
    "from sklearn.decomposition import TruncatedSVD\n",
    "A = np.array([[-1, 2, 0],[2, 0, -2],[0, -2, 1]])\n",
    "print(\"Orignal matrix:\")\n",
    "print(A)"
   ]
  },
  {
   "cell_type": "code",
   "execution_count": 13,
   "id": "eae12071",
   "metadata": {},
   "outputs": [
    {
     "name": "stdout",
     "output_type": "stream",
     "text": [
      "Transformed Matrix after reducing to 2 features:\n",
      "[[ 2.2 -0.4]\n",
      " [-0.4  2.8]\n",
      " [-2.  -1. ]]\n"
     ]
    }
   ],
   "source": [
    "svd = TruncatedSVD(n_components = 2)\n",
    "A_transf = svd.fit_transform(A)\n",
    "print(\"Transformed Matrix after reducing to 2 features:\")\n",
    "print(A_transf)"
   ]
  },
  {
   "cell_type": "code",
   "execution_count": 14,
   "id": "30617ae4",
   "metadata": {},
   "outputs": [
    {
     "name": "stdout",
     "output_type": "stream",
     "text": [
      "Singular values:\n",
      "[3. 3.]\n"
     ]
    }
   ],
   "source": [
    "print(\"Singular values:\")\n",
    "print(svd.singular_values_)"
   ]
  },
  {
   "cell_type": "code",
   "execution_count": null,
   "id": "f79c4d70",
   "metadata": {},
   "outputs": [],
   "source": []
  }
 ],
 "metadata": {
  "kernelspec": {
   "display_name": "Python 3 (ipykernel)",
   "language": "python",
   "name": "python3"
  },
  "language_info": {
   "codemirror_mode": {
    "name": "ipython",
    "version": 3
   },
   "file_extension": ".py",
   "mimetype": "text/x-python",
   "name": "python",
   "nbconvert_exporter": "python",
   "pygments_lexer": "ipython3",
   "version": "3.9.13"
  }
 },
 "nbformat": 4,
 "nbformat_minor": 5
}
